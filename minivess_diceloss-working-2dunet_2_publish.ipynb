{
 "cells": [
  {
   "cell_type": "markdown",
   "metadata": {},
   "source": [
    "Adapted from MONAI tutorial:<br>\n",
    "https://github.com/Project-MONAI/tutorials/blob/master/3d_segmentation/spleen_segmentation_3d.ipynb<br>"
   ]
  },
  {
   "cell_type": "markdown",
   "metadata": {},
   "source": [
    "Last updated: Jan 12, 2022 by charissa."
   ]
  },
  {
   "cell_type": "code",
   "execution_count": null,
   "metadata": {},
   "outputs": [],
   "source": [
    "# Install libraries.\n",
    "!conda install -c conda-forge tqdm -y\n",
    "!conda install -c conda-forge tensorboard -y\n",
    "!pip uninstall monai -y\n",
    "!pip install tensorboard\n",
    "!pip install 'monai[all]'\n",
    "!python -c \"import matplotlib\" || pip install -q matplotlib\n",
    "!python -c 'import monai; monai.config.print_config()'\n",
    "%matplotlib inline"
   ]
  },
  {
   "cell_type": "code",
   "execution_count": 1,
   "metadata": {},
   "outputs": [],
   "source": [
    "from IPython.display import clear_output"
   ]
  },
  {
   "cell_type": "code",
   "execution_count": 21,
   "metadata": {},
   "outputs": [],
   "source": [
    "import numpy as np\n",
    "import glob\n",
    "import os\n",
    "import tqdm\n",
    "import matplotlib\n",
    "#matplotlib.use('TkAgg')\n",
    "import matplotlib.pyplot as plt\n",
    "import nibabel as nib\n",
    "import cv2"
   ]
  },
  {
   "cell_type": "code",
   "execution_count": 3,
   "metadata": {},
   "outputs": [],
   "source": [
    "import torchvision\n",
    "import torchvision.transforms as transforms\n",
    "import torch\n",
    "from torch.nn import BCELoss, BCEWithLogitsLoss, CrossEntropyLoss\n",
    "from torch.utils.tensorboard import SummaryWriter\n",
    "from torch.optim.lr_scheduler import ReduceLROnPlateau"
   ]
  },
  {
   "cell_type": "code",
   "execution_count": 4,
   "metadata": {},
   "outputs": [],
   "source": [
    "import monai\n",
    "from monai.networks.layers import Norm\n",
    "from monai.data import create_test_image_2d, list_data_collate, decollate_batch\n",
    "from monai.visualize import plot_2d_or_3d_image"
   ]
  },
  {
   "cell_type": "code",
   "execution_count": 5,
   "metadata": {},
   "outputs": [],
   "source": [
    "from monai.utils import first, set_determinism\n",
    "from monai.transforms import (\n",
    "    Activations,\n",
    "    AddChanneld,\n",
    "    AsDiscrete,\n",
    "    EnsureChannelFirstd,\n",
    "    EnsureType,\n",
    "    Compose,\n",
    "    CropForegroundd,\n",
    "    LoadImaged,\n",
    "    Orientationd,\n",
    "    RandAffined,\n",
    "    RandCropByPosNegLabeld,\n",
    "    ScaleIntensityd,\n",
    "    EnsureTyped,\n",
    ")\n",
    "from monai.networks.nets import UNet\n",
    "from monai.networks.layers import Norm\n",
    "from monai.metrics import DiceMetric, ConfusionMatrixMetric\n",
    "from monai.losses import DiceLoss, DiceCELoss\n",
    "from monai.inferers import sliding_window_inference\n",
    "from monai.data import CacheDataset, DataLoader, Dataset, decollate_batch\n",
    "from monai.config import print_config"
   ]
  },
  {
   "cell_type": "code",
   "execution_count": 6,
   "metadata": {},
   "outputs": [],
   "source": [
    "# Set directories.\n",
    "\n",
    "root_dir = '/home/charissa/minivess'\n",
    "\n",
    "images = sorted(glob.glob(os.path.join(root_dir, '20211029_raw_uint8_2d', '*.png')))\n",
    "labels = sorted(glob.glob(os.path.join(root_dir, '20211029_seg_uint8_2d', '*.png')))\n",
    "\n",
    "data_dicts = [\n",
    "    {'image': image_name, 'label': label_name}\n",
    "    for image_name, label_name in zip(images, labels)\n",
    "]\n",
    "\n",
    "# Split data for training and testing.\n",
    "split = int(len(images)*.8)\n",
    "\n",
    "train_files = [{\"image\": img, \"label\": label} for img, label in zip(images[:split], labels[:split])]\n",
    "val_files = [{\"image\": img, \"label\": label} for img, label in zip(images[split+1:], labels[split+1:])]"
   ]
  },
  {
   "cell_type": "code",
   "execution_count": 7,
   "metadata": {},
   "outputs": [
    {
     "name": "stdin",
     "output_type": "stream",
     "text": [
      "Input date, which will be used to save relevant plots/images for this run: (yyyymmdd): 20220112\n"
     ]
    },
    {
     "name": "stdout",
     "output_type": "stream",
     "text": [
      "20220112_best_metric_model.pth\n"
     ]
    }
   ],
   "source": [
    "daten = input('Input date, which will be used to save relevant plots/images for this run: (yyyymmdd):')\n",
    "best_model_name = daten +'_best_metric_model.pth'\n",
    "print(best_model_name)"
   ]
  },
  {
   "cell_type": "code",
   "execution_count": 8,
   "metadata": {},
   "outputs": [],
   "source": [
    "# Set random seed.\n",
    "set_determinism(seed=0)  #42"
   ]
  },
  {
   "cell_type": "code",
   "execution_count": 9,
   "metadata": {},
   "outputs": [
    {
     "name": "stderr",
     "output_type": "stream",
     "text": [
      "torch.meshgrid: in an upcoming release, it will be required to pass the indexing argument. (Triggered internally at  ../aten/src/ATen/native/TensorShape.cpp:2157.)\n"
     ]
    }
   ],
   "source": [
    "# Set transforms for training, validation, and saving validation outputs (train_transform2).\n",
    "train_transforms = Compose(\n",
    "    [\n",
    "        LoadImaged(keys=[\"image\", \"label\"]),\n",
    "        EnsureChannelFirstd(keys=[\"image\", \"label\"]),\n",
    "        ScaleIntensityd(keys=['image', 'label'], minv=0.0, maxv=1.0),\n",
    "        CropForegroundd(keys=[\"image\", \"label\"], source_key=\"image\"),\n",
    "        RandCropByPosNegLabeld(\n",
    "            keys=[\"image\", \"label\"],\n",
    "            label_key=\"label\",\n",
    "            spatial_size= (96,96), #(160, 160),\n",
    "            pos=1,\n",
    "            neg=1,\n",
    "            num_samples=4,\n",
    "            image_key=\"image\",\n",
    "            image_threshold=0,\n",
    "        ),\n",
    "        RandAffined(\n",
    "             keys=['image', 'label'],\n",
    "             mode=('bilinear', 'nearest'),\n",
    "             prob=1.0, spatial_size=(96, 96),\n",
    "             rotate_range=(0, 0, np.pi/15),\n",
    "             scale_range=(0.1, 0.1)),\n",
    "        EnsureTyped(keys=[\"image\", \"label\"], data_type='tensor'),\n",
    "    ]\n",
    ")\n",
    "\n",
    "val_transforms = Compose(\n",
    "    [\n",
    "        LoadImaged(keys=[\"image\", \"label\"]),\n",
    "        EnsureChannelFirstd(keys=[\"image\", \"label\"]),\n",
    "        ScaleIntensityd(keys=['image', 'label'], minv=0.0, maxv=1.0),\n",
    "        EnsureTyped(keys=[\"image\", \"label\"], data_type='tensor'),\n",
    "    ]\n",
    ")\n",
    "\n",
    "train_transforms2 = Compose(\n",
    "    [\n",
    "        LoadImaged(keys=[\"image\", \"label\"]),\n",
    "        EnsureChannelFirstd(keys=[\"image\", \"label\"]),\n",
    "        ScaleIntensityd(keys=['image', 'label'], minv=0.0, maxv=1.0),\n",
    "        EnsureTyped(keys=[\"image\", \"label\"], data_type='tensor'),\n",
    "    ]\n",
    ")"
   ]
  },
  {
   "cell_type": "code",
   "execution_count": 10,
   "metadata": {},
   "outputs": [
    {
     "name": "stdout",
     "output_type": "stream",
     "text": [
      "image shape: torch.Size([96, 96]), label shape: torch.Size([96, 96])\n",
      "label values: [0 1]\n",
      "image max: 0.5159908533096313, image min: 0.0002281399501953274\n"
     ]
    },
    {
     "data": {
      "image/png": "[encoded data removed]",
      "text/plain": [
       "<Figure size 864x432 with 2 Axes>"
      ]
     },
     "metadata": {
      "needs_background": "light"
     },
     "output_type": "display_data"
    }
   ],
   "source": [
    "# See example of image, label.\n",
    "check_ds = Dataset(data=train_files, transform=train_transforms)\n",
    "check_loader = DataLoader(check_ds, batch_size=1)\n",
    "check_data = first(check_loader)\n",
    "image, label = (check_data[\"image\"][0][0], check_data[\"label\"][0][0])\n",
    "label = label.int()\n",
    "print(f\"image shape: {image.shape}, label shape: {label.shape}\")\n",
    "print(f'label values: {np.unique(label)}')\n",
    "print(f'image max: {image.max()}, image min: {image.min()}')\n",
    "plt.figure(\"check\", (12, 6))\n",
    "plt.subplot(1, 2, 1)\n",
    "plt.title(\"image\")\n",
    "plt.imshow(image[:, :], cmap=\"gray\")\n",
    "plt.subplot(1, 2, 2)\n",
    "plt.title(\"label\")\n",
    "plt.imshow(label[:, :])\n",
    "plt.show()"
   ]
  },
  {
   "cell_type": "code",
   "execution_count": 11,
   "metadata": {},
   "outputs": [
    {
     "name": "stderr",
     "output_type": "stream",
     "text": [
      "`threshold_values=True/False` is deprecated, please use `threshold=value` instead.\n"
     ]
    }
   ],
   "source": [
    "# Create Datasets and DataLoaders.\n",
    "\n",
    "# Dataset and DataLoader for training.\n",
    "train_ds = monai.data.Dataset(data=train_files, transform=train_transforms)\n",
    "train_loader = DataLoader(\n",
    "    train_ds,\n",
    "    batch_size=2,\n",
    "    shuffle=True,\n",
    "    num_workers=4,\n",
    "    collate_fn=list_data_collate,\n",
    "    pin_memory=torch.cuda.is_available(),\n",
    ")\n",
    "\n",
    "# Dataset and DataLoader for validation.\n",
    "val_ds = monai.data.Dataset(data=val_files, transform=val_transforms)\n",
    "val_loader = DataLoader(val_ds, batch_size=1, num_workers=4, collate_fn=list_data_collate)\n",
    "\n",
    "# Dataset and DataLoader for saving model outputs.\n",
    "train_ds2 = monai.data.Dataset(data=train_files, transform=train_transforms2)\n",
    "train_loader2 = DataLoader(train_ds2, batch_size=1, num_workers=4, collate_fn=list_data_collate)\n",
    "\n",
    "# Metrics\n",
    "dice_metric = DiceMetric(include_background=True, reduction=\"mean\", get_not_nans=False)\n",
    "confusion_metric = ConfusionMatrixMetric(include_background=True, \n",
    "                                        metric_name = ['sensitivity','specificity',\n",
    "                                                      'precision', 'accuracy'])\n",
    "\n",
    "post_trans = Compose([EnsureType(data_type='tensor'), Activations(sigmoid=True), AsDiscrete(threshold_values=True)])"
   ]
  },
  {
   "cell_type": "code",
   "execution_count": 12,
   "metadata": {},
   "outputs": [
    {
     "name": "stdout",
     "output_type": "stream",
     "text": [
      "device: cuda:0\n"
     ]
    }
   ],
   "source": [
    "# Create UNet, DiceLoss and Adam optimizer.\n",
    "device = torch.device('cuda:0' if torch.cuda.is_available() else 'cpu')\n",
    "print('device:', device)\n",
    "\n",
    "model = monai.networks.nets.UNet(\n",
    "    dimensions=2,\n",
    "    in_channels=1,\n",
    "    out_channels=1,\n",
    "    channels=(16, 32, 64, 128, 256),\n",
    "    strides=(2, 2, 2, 2),\n",
    "    num_res_units=2,\n",
    ").to(device)\n",
    "\n",
    "loss_function = monai.losses.DiceLoss(sigmoid=True)\n",
    "optimizer = torch.optim.Adam(model.parameters(), 1e-3)"
   ]
  },
  {
   "cell_type": "code",
   "execution_count": 13,
   "metadata": {},
   "outputs": [
    {
     "name": "stdout",
     "output_type": "stream",
     "text": [
      "----------\n",
      "epoch 1/6\n"
     ]
    },
    {
     "name": "stderr",
     "output_type": "stream",
     "text": [
      "N foreground 0, N  background 261171,unable to generate class balanced samples.\n"
     ]
    },
    {
     "name": "stdout",
     "output_type": "stream",
     "text": [
      "epoch 1 average loss: 0.6001\n",
      "----------\n",
      "epoch 2/6\n"
     ]
    },
    {
     "name": "stderr",
     "output_type": "stream",
     "text": [
      "N foreground 0, N  background 261171,unable to generate class balanced samples.\n"
     ]
    },
    {
     "name": "stdout",
     "output_type": "stream",
     "text": [
      "epoch 2 average loss: 0.3211\n"
     ]
    },
    {
     "name": "stderr",
     "output_type": "stream",
     "text": [
      "the ground truth of class 0 is all 0, this may result in nan/inf distance.\n"
     ]
    },
    {
     "name": "stdout",
     "output_type": "stream",
     "text": [
      "saved new best metric model\n",
      "current epoch: 2 current mean dice: 0.7516 best mean dice: 0.7516 at epoch 2\n",
      "----------\n",
      "epoch 3/6\n"
     ]
    },
    {
     "name": "stderr",
     "output_type": "stream",
     "text": [
      "N foreground 0, N  background 261171,unable to generate class balanced samples.\n"
     ]
    },
    {
     "name": "stdout",
     "output_type": "stream",
     "text": [
      "epoch 3 average loss: 0.2992\n",
      "----------\n",
      "epoch 4/6\n"
     ]
    },
    {
     "name": "stderr",
     "output_type": "stream",
     "text": [
      "N foreground 0, N  background 261171,unable to generate class balanced samples.\n"
     ]
    },
    {
     "name": "stdout",
     "output_type": "stream",
     "text": [
      "epoch 4 average loss: 0.2928\n",
      "saved new best metric model\n",
      "current epoch: 4 current mean dice: 0.7729 best mean dice: 0.7729 at epoch 4\n",
      "----------\n",
      "epoch 5/6\n"
     ]
    },
    {
     "name": "stderr",
     "output_type": "stream",
     "text": [
      "N foreground 0, N  background 261171,unable to generate class balanced samples.\n"
     ]
    },
    {
     "name": "stdout",
     "output_type": "stream",
     "text": [
      "epoch 5 average loss: 0.2958\n",
      "----------\n",
      "epoch 6/6\n"
     ]
    },
    {
     "name": "stderr",
     "output_type": "stream",
     "text": [
      "N foreground 0, N  background 261171,unable to generate class balanced samples.\n"
     ]
    },
    {
     "name": "stdout",
     "output_type": "stream",
     "text": [
      "epoch 6 average loss: 0.2914\n",
      "current epoch: 6 current mean dice: 0.7130 best mean dice: 0.7729 at epoch 4\n",
      "train completed, best_metric: 0.7729 at epoch: 4\n"
     ]
    }
   ],
   "source": [
    "# Typical PyTorch training loop.\n",
    "\n",
    "epochs = 6\n",
    "val_interval = 2\n",
    "best_metric = -1\n",
    "best_metric_epoch = -1\n",
    "epoch_loss_values = list()\n",
    "metric_values = list()\n",
    "conf_metric_values = []\n",
    "\n",
    "for epoch in range(epochs):\n",
    "    print(\"-\" * 10)\n",
    "    print(f\"epoch {epoch + 1}/{epochs}\")\n",
    "    model.train()\n",
    "    epoch_loss = 0\n",
    "    step = 0\n",
    "    for batch_data in train_loader:\n",
    "        step += 1\n",
    "        inputs, labels = batch_data[\"image\"].to(device), batch_data[\"label\"].to(device)\n",
    "        optimizer.zero_grad()\n",
    "        outputs = model(inputs)\n",
    "        loss = loss_function(outputs, labels)\n",
    "        loss.backward()\n",
    "        optimizer.step()\n",
    "        epoch_loss += loss.item()\n",
    "        epoch_len = len(train_ds) // train_loader.batch_size\n",
    "        #print(f\"{step}/{epoch_len}, train_loss: {loss.item():.4f}\")\n",
    "    epoch_loss /= step\n",
    "    epoch_loss_values.append(epoch_loss)\n",
    "    print(f\"epoch {epoch + 1} average loss: {epoch_loss:.4f}\")\n",
    "\n",
    "    if (epoch + 1) % val_interval == 0:\n",
    "        model.eval()\n",
    "        with torch.no_grad():\n",
    "            val_images = None\n",
    "            val_labels = None\n",
    "            val_outputs = None\n",
    "            for val_data in val_loader:\n",
    "                val_images, val_labels = val_data[\"image\"].to(device), val_data[\"label\"].to(device)\n",
    "                roi_size = (96, 96)\n",
    "                sw_batch_size = 4\n",
    "                val_outputs = sliding_window_inference(val_images, roi_size, sw_batch_size, model)\n",
    "                val_outputs = [post_trans(i) for i in decollate_batch(val_outputs)]\n",
    "                # Compute metric for current iteration\n",
    "                dice_metric(y_pred=val_outputs, y=val_labels)\n",
    "                confusion_metric(y_pred=val_outputs, y=val_labels)\n",
    "            # Aggregate the final mean dice resul\n",
    "            metric = dice_metric.aggregate().item()\n",
    "            conf_metric_agg = confusion_metric.aggregate()\n",
    "            # Reset the status for next validation round\n",
    "            dice_metric.reset()\n",
    "            confusion_metric.reset()\n",
    "            \n",
    "            metric_values.append(metric)\n",
    "            conf_metric_values.append(conf_metric_agg)\n",
    "            if metric > best_metric:\n",
    "                best_metric = metric\n",
    "                best_metric_epoch = epoch + 1\n",
    "                torch.save(model.state_dict(), best_model_name)\n",
    "                print(\"saved new best metric model\")\n",
    "            print(\n",
    "                \"current epoch: {} current mean dice: {:.4f} best mean dice: {:.4f} at epoch {}\".format(\n",
    "                    epoch + 1, metric, best_metric, best_metric_epoch\n",
    "                )\n",
    "            )\n",
    "print(f\"train completed, best_metric: {best_metric:.4f} at epoch: {best_metric_epoch}\")\n"
   ]
  },
  {
   "cell_type": "code",
   "execution_count": 14,
   "metadata": {},
   "outputs": [
    {
     "data": {
      "image/png": "[encoded data removed]",
      "text/plain": [
       "<Figure size 864x432 with 2 Axes>"
      ]
     },
     "metadata": {
      "needs_background": "light"
     },
     "output_type": "display_data"
    }
   ],
   "source": [
    "# Plot loss and mean Dice.\n",
    "\n",
    "plt.figure(\"train\", (12, 6))\n",
    "plt.subplot(1, 2, 1)\n",
    "plt.title(\"Epoch Average Loss\")\n",
    "x = [i + 1 for i in range(len(epoch_loss_values))]\n",
    "y = epoch_loss_values\n",
    "plt.xlabel(\"epoch\")\n",
    "plt.plot(x, y)\n",
    "plt.subplot(1, 2, 2)\n",
    "plt.title(\"Val Mean Dice\")\n",
    "x = [val_interval * (i + 1) for i in range(len(metric_values))]\n",
    "y = metric_values\n",
    "plt.xlabel(\"epoch\")\n",
    "plt.plot(x, y)\n",
    "plt.savefig(daten + best_model_name[:-4] + '_diceloss.jpg')\n",
    "plt.show()"
   ]
  },
  {
   "cell_type": "code",
   "execution_count": 17,
   "metadata": {},
   "outputs": [],
   "source": [
    "# Write epoch loss values and dice values to file.\n",
    "\n",
    "export_prefix = daten + '_unet'\n",
    "export_diceloss = export_prefix + '_diceloss.txt'\n",
    "export_dicemetric = export_prefix + '_dicemetric.txt'\n",
    "export_confusionmetric = export_prefix + '_confusionmetric.txt'\n",
    "\n",
    "with open(export_diceloss, 'a') as myfile1:\n",
    "    myfile1.write('\\n'.join(str(item) for item in epoch_loss_values)+'\\n')\n",
    "with open(export_dicemetric, 'a') as myfile2:\n",
    "    myfile2.write('\\n'.join(str(item) for item in metric_values)+'\\n')\n",
    "with open(export_confusionmetric, 'a') as myfile3:\n",
    "    myfile3.write('\\n'.join(str(item) for item in conf_metric_values)+'\\n')"
   ]
  },
  {
   "cell_type": "code",
   "execution_count": null,
   "metadata": {},
   "outputs": [],
   "source": [
    "# Visualize model outputs on validation set.\n",
    "post_trans = Compose([EnsureType(data_type='tensor'), Activations(sigmoid=True), AsDiscrete(threshold_values=True)]) \n",
    "model.load_state_dict(torch.load(\n",
    "    os.path.join(root_dir, best_model_name)))\n",
    "model.eval()\n",
    "with torch.no_grad():\n",
    "    for i, val_data in enumerate(val_loader):\n",
    "        fname = '20211102-2d_dict-TEST' + str(i) + '.jpg'\n",
    "        roi_size = (160, 160)\n",
    "        sw_batch_size = 4\n",
    "        val_outputs = sliding_window_inference(\n",
    "            val_data[\"image\"].to(device), roi_size, sw_batch_size, model\n",
    "        )\n",
    "        val_outputs = post_trans(val_outputs)\n",
    "        # plot the slice [:, :, 80]\n",
    "        plt.figure(\"check\", (18, 6))\n",
    "        plt.subplot(1, 3, 1)\n",
    "        plt.title(f\"image {i}\")\n",
    "        plt.imshow(val_data[\"image\"][0, 0, :, :], cmap=\"gray\")\n",
    "        #print('val_data-image:' ,np.unique(val_data[\"image\"][0, 0, :, :]))\n",
    "        plt.subplot(1, 3, 2)\n",
    "        plt.title(f\"label {i}\")\n",
    "        plt.imshow(val_data[\"label\"][0, 0, :, :], cmap='gray')\n",
    "        print('val_data-label:' ,np.unique(val_data[\"label\"][0, 0, :, :]))\n",
    "        plt.subplot(1, 3, 3)\n",
    "        plt.title(f\"output {i}\")\n",
    "        plt.imshow(val_outputs.detach().cpu()[0, 0,:, :], cmap='gray')\n",
    "        print('val_outputs shape:', val_outputs.shape, val_outputs.dtype)\n",
    "        print('val_outputs:', np.unique(val_outputs.detach().cpu()))\n",
    "        plt.show()"
   ]
  },
  {
   "cell_type": "code",
   "execution_count": null,
   "metadata": {},
   "outputs": [],
   "source": [
    "# For saving model outputs: export headers of train_files into list for .nii.gz\n",
    "train_header_dict = {}\n",
    "import nibabel as nib\n",
    "for i in range(0, len(train_files)):\n",
    "    key = os.path.split(train_files[i]['label'])[1]  # get file name\n",
    "    nii_im = nib.load(train_files[i]['label'])\n",
    "    value = nii_im.header\n",
    "    train_header_dict[key] = value"
   ]
  },
  {
   "cell_type": "code",
   "execution_count": 27,
   "metadata": {},
   "outputs": [],
   "source": []
  },
  {
   "cell_type": "code",
   "execution_count": null,
   "metadata": {},
   "outputs": [],
   "source": [
    "# For saving model outputs:  export headers of val_files into list for .nii.gz\n",
    "val_header_dict = {}\n",
    "import nibabel as nib\n",
    "for i in range(0, len(val_files)):\n",
    "    key = os.path.split(val_files[i]['label'])[1]  # get file name\n",
    "    nii_im = nib.load(val_files[i]['label'])\n",
    "    value = nii_im.header\n",
    "    val_header_dict[key] = value"
   ]
  },
  {
   "cell_type": "code",
   "execution_count": 19,
   "metadata": {},
   "outputs": [
    {
     "name": "stdout",
     "output_type": "stream",
     "text": [
      "[  0 255]\n",
      "uint8\n"
     ]
    },
    {
     "data": {
      "image/png": "[encoded data removed]",
      "text/plain": [
       "<Figure size 432x288 with 1 Axes>"
      ]
     },
     "metadata": {
      "needs_background": "light"
     },
     "output_type": "display_data"
    }
   ],
   "source": [
    "post_trans = Compose([EnsureType(data_type='tensor'), AsDiscrete(threshold_values=True)]) \n",
    "val_outputs = post_trans(val_outputs)\n",
    "val_outputs2 = np.asarray(val_outputs.detach().cpu())\n",
    "val_outputs2 = np.squeeze(val_outputs2).astype('uint8')\n",
    "val_outputs2 *= 255\n",
    "#plt.imshow(val_outputs2.detach().cpu()[0,0,:,:])\n",
    "plt.imshow(val_outputs2)\n",
    "print(np.unique(val_outputs2))\n",
    "print(val_outputs2.dtype)"
   ]
  },
  {
   "cell_type": "code",
   "execution_count": null,
   "metadata": {},
   "outputs": [],
   "source": [
    "# For saving model outputs: save model outputs (val)\n",
    "#model.load_state_dict(torch.load(\"/home/charissa/minnievess/runs/20210819_unet_int/best_metric_model_int.pth\"))\n",
    "export_root = root_dir + '/' + best_model_name[:-4] + '_val_outputs/'\n",
    "if not os.path.isdir(export_root):\n",
    "    os.mkdir(export_root)\n",
    "post_trans = Compose([EnsureType(data_type='tensor'), AsDiscrete(threshold_values=True)]) \n",
    "model.load_state_dict(torch.load(\n",
    "    os.path.join(root_dir, best_model_name)))\n",
    "model.eval()\n",
    "with torch.no_grad():\n",
    "    for i, val_data in enumerate(val_loader):\n",
    "        roi_size = (160, 160)\n",
    "        sw_batch_size = 4\n",
    "        val_outputs = sliding_window_inference(\n",
    "            val_data[\"image\"].to(device), roi_size, sw_batch_size, model\n",
    "        )\n",
    "        val_outputs = post_trans(val_outputs)\n",
    "        val_outputs2 = np.asarray(val_outputs.detach().cpu())\n",
    "        val_outputs2 = np.squeeze(val_outputs2).astype('uint8')\n",
    "                \n",
    "        val_outputs2 *= 255\n",
    "        \n",
    "        # Set file name for png\n",
    "        f1 = val_data['image_meta_dict']['filename_or_obj']\n",
    "        _, outputs_fname = os.path.split(f1[0])\n",
    "        fout = os.path.join(export_root, outputs_fname)\n",
    "        #print(fout)\n",
    "        \n",
    "        \n",
    "        \n",
    "        cv2.imwrite(fout, val_outputs2)\n",
    "        #plt.imshow(val_outputs2, cmap='gray')\n",
    "        #plt.show()"
   ]
  },
  {
   "cell_type": "code",
   "execution_count": null,
   "metadata": {},
   "outputs": [],
   "source": [
    "# For saving model outputs: save model outputs (train)\n",
    "#model.load_state_dict(torch.load(\"/home/charissa/minnievess/runs/20210819_unet_int/best_metric_model_int.pth\"))\n",
    "export_root = root_dir + '/' + best_model_name[:-4] + '_train_outputs/'\n",
    "if not os.path.isdir(export_root):\n",
    "    os.mkdir(export_root)\n",
    "post_trans = Compose([EnsureType(data_type='tensor'), AsDiscrete(threshold_values=True)]) \n",
    "model.load_state_dict(torch.load(\n",
    "     os.path.join(root_dir, best_model_name)))\n",
    "model.eval()\n",
    "\n",
    "with torch.no_grad():\n",
    "    for i, train_data in enumerate(train_loader2):\n",
    "        roi_size = (160, 160)\n",
    "        sw_batch_size = 4\n",
    "        train_outputs = sliding_window_inference(\n",
    "            train_data[\"image\"].to(device), roi_size, sw_batch_size, model\n",
    "        )\n",
    "        train_outputs = post_trans(train_outputs)\n",
    "        train_outputs2 = np.asarray(train_outputs.detach().cpu())\n",
    "        train_outputs2 = np.squeeze(train_outputs2).astype('uint8')\n",
    "      \n",
    "        train_outputs2 *= 255  # for saving purposes\n",
    "   \n",
    "        # set file name for png\n",
    "        f1 = train_data['image_meta_dict']['filename_or_obj']\n",
    "        _, outputs_fname = os.path.split(f1[0])\n",
    "        fout = os.path.join(export_root, outputs_fname)\n",
    "        \n",
    "        cv2.imwrite(fout, train_outputs2)"
   ]
  }
 ],
 "metadata": {
  "kernelspec": {
   "display_name": "Python 3 (ipykernel)",
   "language": "python",
   "name": "python3"
  },
  "language_info": {
   "codemirror_mode": {
    "name": "ipython",
    "version": 3
   },
   "file_extension": ".py",
   "mimetype": "text/x-python",
   "name": "python",
   "nbconvert_exporter": "python",
   "pygments_lexer": "ipython3",
   "version": "3.9.7"
  }
 },
 "nbformat": 4,
 "nbformat_minor": 4
}
