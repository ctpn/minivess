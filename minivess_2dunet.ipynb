{
 "cells": [
  {
   "cell_type": "markdown",
   "metadata": {},
   "source": [
    "Adapted from MONAI tutorial:<br>\n",
    "https://github.com/Project-MONAI/tutorials/blob/master/3d_segmentation/spleen_segmentation_3d.ipynb<br>"
   ]
  },
  {
   "cell_type": "code",
   "execution_count": null,
   "metadata": {},
   "outputs": [],
   "source": [
    "# Install libraries.\n",
    "\"\"\"!conda install -c conda-forge tqdm -y\n",
    "!conda install -c conda-forge tensorboard -y\n",
    "!pip uninstall monai -y\n",
    "!pip install tensorboard\n",
    "!pip install 'monai[all]'\n",
    "!python -c \"import matplotlib\" || pip install -q matplotlib\n",
    "!python -c 'import monai; monai.config.print_config()'\n",
    "%matplotlib inline\"\"\""
   ]
  },
  {
   "cell_type": "code",
   "execution_count": 1,
   "metadata": {},
   "outputs": [],
   "source": [
    "from IPython.display import clear_output"
   ]
  },
  {
   "cell_type": "code",
   "execution_count": 5,
   "metadata": {},
   "outputs": [],
   "source": [
    "import numpy as np\n",
    "import glob\n",
    "import os\n",
    "import tqdm\n",
    "import matplotlib\n",
    "#matplotlib.use('TkAgg')\n",
    "import matplotlib.pyplot as plt\n",
    "import nibabel as nib\n",
    "import cv2\n",
    "import random\n",
    "import math\n",
    "from skimage import metrics\n",
    "\n",
    "random.seed(42)"
   ]
  },
  {
   "cell_type": "code",
   "execution_count": 6,
   "metadata": {},
   "outputs": [],
   "source": [
    "import torchvision\n",
    "import torchvision.transforms as transforms\n",
    "import torch\n",
    "from torch.nn import BCELoss, BCEWithLogitsLoss, CrossEntropyLoss\n",
    "from torch.utils.tensorboard import SummaryWriter\n",
    "from torch.optim.lr_scheduler import ReduceLROnPlateau"
   ]
  },
  {
   "cell_type": "code",
   "execution_count": 7,
   "metadata": {},
   "outputs": [],
   "source": [
    "import monai\n",
    "from monai.networks.layers import Norm\n",
    "from monai.data import create_test_image_2d, list_data_collate, decollate_batch\n",
    "from monai.visualize import plot_2d_or_3d_image\n",
    "\n",
    "from monai.utils import first, set_determinism\n",
    "from monai.transforms import (\n",
    "    Activations,\n",
    "    AddChanneld,\n",
    "    AsDiscrete,\n",
    "    EnsureChannelFirstd,\n",
    "    EnsureType,\n",
    "    CenterSpatialCropd,\n",
    "    Compose,\n",
    "    CropForegroundd,\n",
    "    LoadImaged,\n",
    "    Orientationd,\n",
    "    RandAffined,\n",
    "    RandCropByPosNegLabeld,\n",
    "    RemoveSmallObjects,\n",
    "    ScaleIntensityd,\n",
    "    EnsureTyped,\n",
    ")\n",
    "from monai.networks.nets import UNet\n",
    "from monai.networks.layers import Norm\n",
    "from monai.metrics import DiceMetric\n",
    "from monai.losses import DiceLoss\n",
    "from monai.inferers import sliding_window_inference\n",
    "from monai.data import CacheDataset, DataLoader, Dataset, decollate_batch\n",
    "from monai.config import print_config\n",
    "set_determinism(seed=42) "
   ]
  },
  {
   "cell_type": "code",
   "execution_count": 8,
   "metadata": {},
   "outputs": [
    {
     "name": "stdout",
     "output_type": "stream",
     "text": [
      "56 train_files, 7 val_files, 7 test_files\n"
     ]
    }
   ],
   "source": [
    "# Set directories.\n",
    "\n",
    "root_dir = '/home/charissa/minivess/data'\n",
    "\n",
    "images = glob.glob('/home/charissa/minivess/0publish/raw/'+'*.nii.gz')\n",
    "labels = glob.glob('/home/charissa/minivess/0publish/seg/'+'*.nii.gz')\n",
    "\n",
    "images = sorted(images)\n",
    "labels = sorted(labels)\n",
    "\n",
    "data_dicts = [\n",
    "    {'image': image_name, 'label': label_name}\n",
    "    for image_name, label_name in zip(images, labels)\n",
    "]\n",
    "\n",
    "# Split data for training and testing.\n",
    "random.Random(42).shuffle(data_dicts)\n",
    "split_train = int(len(images)*.8)\n",
    "split_val_test = int(len(images)*.1)\n",
    "assert(split_train+split_val_test*2 == len(images))\n",
    "\n",
    "train_files = data_dicts[:split_train]\n",
    "val_files = data_dicts[split_train:split_train+split_val_test]\n",
    "test_files = data_dicts[split_train+split_val_test:]\n",
    "\n",
    "print('{} train_files, {} val_files, {} test_files'.format(len(train_files), len(val_files), len(test_files)))\n",
    "assert((len(train_files)+len(test_files)+len(val_files)) == len(images))"
   ]
  },
  {
   "cell_type": "code",
   "execution_count": 9,
   "metadata": {},
   "outputs": [
    {
     "name": "stdin",
     "output_type": "stream",
     "text": [
      "Input date, which will be used to save relevant plots/images for this run: (yyyymmdd): 20230127\n"
     ]
    },
    {
     "name": "stdout",
     "output_type": "stream",
     "text": [
      "20230127_best_metric_model.pth\n"
     ]
    }
   ],
   "source": [
    "daten = input('Input date, which will be used to save relevant plots/images for this run: (yyyymmdd):')\n",
    "best_model_name = daten +'_best_metric_model.pth'\n",
    "print(best_model_name)"
   ]
  },
  {
   "cell_type": "code",
   "execution_count": 11,
   "metadata": {},
   "outputs": [],
   "source": [
    "# Set transforms for training, validation, and saving validation outputs (train_transform2).\n",
    "train_transforms = Compose(\n",
    "    [\n",
    "        LoadImaged(keys=[\"image\", \"label\"]),\n",
    "        EnsureChannelFirstd(keys=[\"image\", \"label\"]),\n",
    "        ScaleIntensityd(keys=['image', 'label'], minv=0.0, maxv=1.0),\n",
    "        CropForegroundd(keys=[\"image\", \"label\"], source_key=\"image\"),\n",
    "        RandCropByPosNegLabeld(\n",
    "            keys=[\"image\", \"label\"],\n",
    "            label_key=\"label\",\n",
    "            spatial_size= (96,96,1), #(160, 160),\n",
    "            pos=3,\n",
    "            neg=1,\n",
    "            num_samples=4,\n",
    "            image_key=\"image\",\n",
    "            image_threshold=0,\n",
    "        ),\n",
    "          RandAffined(\n",
    "             keys=['image', 'label'],\n",
    "             mode=('bilinear', 'nearest'),\n",
    "             prob=1.0, spatial_size=(96,96,1),\n",
    "             rotate_range=(0, 0, np.pi/15),\n",
    "             scale_range=(0.1, 0.1)),\n",
    "        EnsureTyped(keys=[\"image\", \"label\"], data_type='tensor'),\n",
    "    ]\n",
    ")\n",
    "\n",
    "\n",
    "val_transforms = Compose(\n",
    "    [\n",
    "        LoadImaged(keys=[\"image\", \"label\"]),\n",
    "        EnsureChannelFirstd(keys=[\"image\", \"label\"]),\n",
    "        ScaleIntensityd(keys=['image', 'label'], minv=0.0, maxv=1.0),\n",
    "        CenterSpatialCropd(keys=[\"image\", \"label\"], roi_size=[-1,-1,1]),\n",
    "        EnsureTyped(keys=[\"image\", \"label\"], data_type='tensor'),\n",
    "    ]\n",
    ")\n",
    "\n",
    "test_transforms = Compose(\n",
    "    [\n",
    "        LoadImaged(keys=[\"image\", \"label\"]),\n",
    "        EnsureChannelFirstd(keys=[\"image\", \"label\"]),\n",
    "        ScaleIntensityd(keys=['image', 'label'], minv=0.0, maxv=1.0),\n",
    "        CenterSpatialCropd(keys=[\"image\", \"label\"], roi_size=[-1,-1,1]),\n",
    "        EnsureTyped(keys=[\"image\", \"label\"], data_type='tensor'),\n",
    "    ]\n",
    ")"
   ]
  },
  {
   "cell_type": "code",
   "execution_count": 13,
   "metadata": {},
   "outputs": [
    {
     "name": "stdout",
     "output_type": "stream",
     "text": [
      "image shape: torch.Size([4, 1, 96, 96, 1]), label shape: torch.Size([4, 1, 96, 96, 1])\n",
      "label values: [0 1]\n",
      "image max: 0.4471955895423889, image min: 0.006625339854508638\n"
     ]
    },
    {
     "data": {
      "image/png": "[encoded data removed]",
      "text/plain": [
       "<Figure size 864x432 with 2 Axes>"
      ]
     },
     "metadata": {
      "needs_background": "light"
     },
     "output_type": "display_data"
    },
    {
     "name": "stdout",
     "output_type": "stream",
     "text": [
      "torch.Size([4, 1, 96, 96, 1])\n"
     ]
    }
   ],
   "source": [
    "# See example of image, label.\n",
    "check_ds = Dataset(data=train_files, transform=train_transforms)\n",
    "check_loader = DataLoader(check_ds, batch_size=1)\n",
    "check_data = first(check_loader)\n",
    "image, label = (check_data[\"image\"], check_data[\"label\"])\n",
    "label = label.int()\n",
    "print(f\"image shape: {image.shape}, label shape: {label.shape}\")\n",
    "print(f'label values: {np.unique(label)}')\n",
    "print(f'image max: {image.max()}, image min: {image.min()}')\n",
    "plt.figure(\"check\", (12, 6))\n",
    "plt.subplot(1, 2, 1)\n",
    "plt.title(\"image\")\n",
    "plt.imshow(image[0,0,...], cmap=\"gray\")\n",
    "plt.subplot(1, 2, 2)\n",
    "plt.title(\"label\")\n",
    "plt.imshow(label[0,0,...])\n",
    "plt.show()\n",
    "\n",
    "print(image.shape)"
   ]
  },
  {
   "cell_type": "code",
   "execution_count": 14,
   "metadata": {},
   "outputs": [],
   "source": [
    "# Create Datasets and DataLoaders.\n",
    "\n",
    "# Dataset and DataLoader for training.\n",
    "train_ds = monai.data.Dataset(data=train_files, transform=train_transforms)\n",
    "train_loader = DataLoader(\n",
    "    train_ds,\n",
    "    batch_size=2,\n",
    "    shuffle=True,\n",
    "    num_workers=4,\n",
    "    collate_fn=list_data_collate,\n",
    "    pin_memory=torch.cuda.is_available(),\n",
    ")\n",
    "\n",
    "# Dataset and DataLoader for validation.\n",
    "val_ds = monai.data.Dataset(data=val_files, transform=val_transforms)\n",
    "val_loader = DataLoader(val_ds, batch_size=1, num_workers=4, collate_fn=list_data_collate)\n",
    "\n",
    "# Dataset and DataLoader for testing.\n",
    "test_ds = monai.data.Dataset(data=test_files, transform=test_transforms)\n",
    "test_loader = DataLoader(test_ds, batch_size=1, num_workers=4, collate_fn=list_data_collate)\n",
    "\n",
    "\n",
    "# Metrics.\n",
    "dice_metric = DiceMetric(include_background=False, reduction=\"mean\", get_not_nans=False)"
   ]
  },
  {
   "cell_type": "code",
   "execution_count": 15,
   "metadata": {},
   "outputs": [
    {
     "name": "stdout",
     "output_type": "stream",
     "text": [
      "device: cuda:0\n"
     ]
    },
    {
     "name": "stderr",
     "output_type": "stream",
     "text": [
      "monai.networks.nets.unet UNet.__init__:dimensions: Argument `dimensions` has been deprecated since version 0.6. Please use `spatial_dims` instead.\n"
     ]
    }
   ],
   "source": [
    "# Create UNet, DiceLoss and Adam optimizer.\n",
    "device = torch.device('cuda:0' if torch.cuda.is_available() else 'cpu')\n",
    "print('device:', device)\n",
    "\n",
    "model = monai.networks.nets.UNet(\n",
    "    dimensions=2,\n",
    "    in_channels=1,\n",
    "    out_channels=1,\n",
    "    channels=(16, 32, 64, 128, 256),\n",
    "    strides=(2, 2, 2, 2),\n",
    "    num_res_units=2,\n",
    ").to(device)\n",
    "\n",
    "loss_function = monai.losses.DiceLoss(sigmoid=True)\n",
    "optimizer = torch.optim.Adam(model.parameters(), 1e-3)"
   ]
  },
  {
   "cell_type": "code",
   "execution_count": null,
   "metadata": {},
   "outputs": [],
   "source": [
    "# Typical PyTorch training loop.\n",
    "\n",
    "epochs = 200\n",
    "val_interval = 2\n",
    "best_metric = -1\n",
    "best_metric_epoch = -1\n",
    "epoch_loss_values = list()\n",
    "metric_values = list()\n",
    "\n",
    "for epoch in range(epochs):\n",
    "    print(\"-\" * 10)\n",
    "    print(f\"epoch {epoch + 1}/{epochs}\")\n",
    "    model.train()\n",
    "    epoch_loss = 0\n",
    "    step = 0\n",
    "    for batch_data in train_loader:\n",
    "        step += 1\n",
    "        inputs, labels = batch_data[\"image\"].to(device), batch_data[\"label\"].to(device)\n",
    "        inputs = inputs[...,0]\n",
    "        labels = labels[...,0]\n",
    "        optimizer.zero_grad()\n",
    "        outputs = model(inputs)\n",
    "        loss = loss_function(outputs, labels)\n",
    "        loss.backward()\n",
    "        optimizer.step()\n",
    "        epoch_loss += loss.item()\n",
    "        epoch_len = len(train_ds) // train_loader.batch_size\n",
    "        #print(f\"{step}/{epoch_len}, train_loss: {loss.item():.4f}\")\n",
    "    epoch_loss /= step\n",
    "    epoch_loss_values.append(epoch_loss)\n",
    "    print(f\"epoch {epoch + 1} average loss: {epoch_loss:.4f}\")\n",
    "\n",
    "    if (epoch + 1) % val_interval == 0:\n",
    "        model.eval()\n",
    "        with torch.no_grad():\n",
    "            val_images = None\n",
    "            val_labels = None\n",
    "            val_outputs = None\n",
    "            for val_data in val_loader:\n",
    "                val_images, val_labels = val_data[\"image\"].to(device), val_data[\"label\"].to(device)\n",
    "                val_images = val_images[...,0]\n",
    "                val_labels = val_labels[...,0]\n",
    "                roi_size = (96, 96)\n",
    "                sw_batch_size = 4\n",
    "                val_outputs = sliding_window_inference(val_images, roi_size, sw_batch_size, model)\n",
    "                val_outputs = [post_trans(i) for i in decollate_batch(val_outputs)]\n",
    "                # Compute metric for current iteration\n",
    "                dice_metric(y_pred=val_outputs, y=val_labels)\n",
    "            # Aggregate the final mean dice resul\n",
    "            metric = dice_metric.aggregate().item()\n",
    "            # Reset the status for next validation round\n",
    "            dice_metric.reset()\n",
    "            \n",
    "            metric_values.append(metric)\n",
    "            if metric > best_metric:\n",
    "                best_metric = metric\n",
    "                best_metric_epoch = epoch + 1\n",
    "                torch.save(model.state_dict(), best_model_name)\n",
    "                print(\"saved new best metric model\")\n",
    "            print(\n",
    "                \"current epoch: {} current mean dice: {:.4f} best mean dice: {:.4f} at epoch {}\".format(\n",
    "                    epoch + 1, metric, best_metric, best_metric_epoch\n",
    "                )\n",
    "            )\n",
    "print(f\"train completed, best_metric: {best_metric:.4f} at epoch: {best_metric_epoch}\")\n"
   ]
  },
  {
   "cell_type": "code",
   "execution_count": null,
   "metadata": {},
   "outputs": [],
   "source": [
    "# Plot loss and mean Dice.\n",
    "plt.figure(\"train\", (12, 6))\n",
    "plt.subplot(1, 2, 1)\n",
    "plt.title(\"Epoch Average Loss\")\n",
    "x = [i + 1 for i in range(len(epoch_loss_values))]\n",
    "y = epoch_loss_values\n",
    "plt.xlabel(\"epoch\")\n",
    "plt.plot(x, y)\n",
    "plt.subplot(1, 2, 2)\n",
    "plt.title(\"Val Mean Dice\")\n",
    "x = [val_interval * (i + 1) for i in range(len(metric_values))]\n",
    "y = metric_values\n",
    "plt.xlabel(\"epoch\")\n",
    "plt.plot(x, y)\n",
    "plt.savefig(daten + best_model_name[:-4] + '_diceloss.jpg')\n",
    "plt.show()"
   ]
  },
  {
   "cell_type": "code",
   "execution_count": null,
   "metadata": {},
   "outputs": [],
   "source": [
    "# Write epoch loss values and dice values to file.\n",
    "export_prefix = daten + '_unet'\n",
    "export_diceloss = export_prefix + '_diceloss.txt'\n",
    "export_dicemetric = export_prefix + '_dicemetric.txt'\n",
    "\n",
    "with open(export_diceloss, 'a') as myfile1:\n",
    "    myfile1.write('\\n'.join(str(item) for item in epoch_loss_values)+'\\n')\n",
    "with open(export_dicemetric, 'a') as myfile2:\n",
    "    myfile2.write('\\n'.join(str(item) for item in metric_values)+'\\n')"
   ]
  },
  {
   "cell_type": "code",
   "execution_count": null,
   "metadata": {},
   "outputs": [],
   "source": [
    "# testing\n",
    "best_model_name = '/home/charissa/minivess/code/20230120_best_metric_model.pth'\n",
    "post_trans = Compose([EnsureType(data_type='tensor'), AsDiscrete(threshold=0.6)]) \n",
    "model.load_state_dict(torch.load(best_model_name))\n",
    "test_dice=0\n",
    "test_hausdorff=0\n",
    "\n",
    "model.eval()\n",
    "with torch.no_grad():\n",
    "    for test_data in test_loader:\n",
    "        test_images, test_labels = test_data[\"image\"].to(device), test_data[\"label\"].to(device)\n",
    "        test_images = test_images[...,0]\n",
    "        test_labels = test_labels[...,0]\n",
    "        \n",
    "        # define sliding window size and batch size for windows inference\n",
    "        roi_size = (96, 96)\n",
    "        sw_batch_size = 4\n",
    "\n",
    "        test_outputs = sliding_window_inference(test_images, roi_size, sw_batch_size, model)\n",
    "        test_outputs = post_trans(test_outputs)\n",
    "        test_labels = decollate_batch(test_labels)\n",
    "        \n",
    "        # compute metric for current iteration\n",
    "        dice_metric(y_pred=test_outputs[0], y=test_labels[0])       \n",
    "        \n",
    "        # visualize outputs\n",
    "        plt.figure(\"check\", (18, 6))\n",
    "        plt.subplot(1, 3, 1)\n",
    "        plt.title(f\"image\")\n",
    "        plt.imshow(test_data[\"image\"][0, 0, :, :], cmap=\"gray\")\n",
    "        #print('val_data-image:' ,np.unique(val_data[\"image\"][0, 0, :, :]))\n",
    "        plt.subplot(1, 3, 2)\n",
    "        plt.title(f\"label\")\n",
    "        plt.imshow(test_data[\"label\"][0, 0, :, :], cmap='gray')\n",
    "        print('test_data-label:' ,np.unique(test_data[\"label\"][0, 0, :, :]))\n",
    "        plt.subplot(1, 3, 3)\n",
    "        plt.title(f\"output\")\n",
    "        plt.imshow(test_outputs[0].detach().cpu()[0, :, :], cmap='gray')\n",
    "        print('test_outputs shape:', test_outputs[0].shape, test_outputs[0].dtype)\n",
    "        #print('test_outputs:', np.unique(test_outputs[0].detach().cpu()))\n",
    "        plt.show()\n",
    "        clear_output(wait=True)\n",
    "        \n",
    "        if False:\n",
    "            for test_output in test_outputs:\n",
    "                saver(test_output)\n",
    "                \n",
    "                \n",
    "    # aggregate the final mean dice result\n",
    "    test_dice += dice_metric.aggregate().item()\n",
    "    \n",
    "        \n",
    "    \n",
    "    # reset the status\n",
    "    dice_metric.reset()\n",
    "    \n",
    "    print(\"evaluation metric:\", test_dice)\n"
   ]
  }
 ],
 "metadata": {
  "kernelspec": {
   "display_name": "Python [conda env:jupyterhub] *",
   "language": "python",
   "name": "conda-env-jupyterhub-py"
  },
  "language_info": {
   "codemirror_mode": {
    "name": "ipython",
    "version": 3
   },
   "file_extension": ".py",
   "mimetype": "text/x-python",
   "name": "python",
   "nbconvert_exporter": "python",
   "pygments_lexer": "ipython3",
   "version": "3.9.7"
  }
 },
 "nbformat": 4,
 "nbformat_minor": 4
}
